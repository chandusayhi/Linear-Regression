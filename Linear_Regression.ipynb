{
 "cells": [
  {
   "cell_type": "markdown",
   "id": "d9f3fe5d",
   "metadata": {},
   "source": [
    "<h1>Linear Regression</h1>\n",
    "\n",
    "\n",
    "<b>Machine learning</b>, which is one of the most emerging field which is used for predictive modeling with minimizing the error of a model or making the most accurate predictions possible, at the expense of explainability. \n",
    "\n",
    "<blockquote><b>Linear regrission</b> is used to find the relationship between two variables by fitting a linear equation to observed data.</blockquote>"
   ]
  },
  {
   "cell_type": "markdown",
   "id": "df7e74b8",
   "metadata": {},
   "source": [
    "Linear regression is a linear model, e.g. a model that assumes a linear relationship between the input variables (x) and the single output variable (y). More specifically, that y can be calculated from a linear combination of the input variables (x).\n",
    "\n",
    "<blockquote>When there is a single input variable (x), the method is referred to as <b>simple linear regression</b>.</blockquote> \n",
    "<blockquote>When there are multiple input variables, literature from statistics often refers to the method as <b>multiple linear regression</b>.</blockquote>\n",
    "\n",
    "Different techniques can be used to prepare or train the linear regression equation from data, the most common of which is called Ordinary Least Squares. It is common to therefore refer to a model prepared this way as Ordinary Least Squares Linear Regression or just Least Squares Regression."
   ]
  },
  {
   "cell_type": "markdown",
   "id": "c085f371",
   "metadata": {},
   "source": [
    "The aim of linear regression is to find a mathematical equation for a continuous response variable Y as a function of one or more X variable(s). So that you can use this regression model to predict the Y when only the X is known.\n",
    "\n",
    "This mathematical equation can be generalised as follows:\n",
    "\n",
    "<center><b>Y=β1+β2X+ϵ</b></center>\n",
    "\n",
    "where, β1 is the <b>intercept</b> and β2 is the <b>slope</b>.\n",
    "\n",
    "Collectively, they are called regression coefficients and ϵ is the <b>error term</b>, the part of Y the regression model is unable to explain."
   ]
  },
  {
   "cell_type": "code",
   "execution_count": 1,
   "id": "250a803f",
   "metadata": {},
   "outputs": [],
   "source": [
    "# Import matplotlib.\n",
    "import matplotlib.pyplot as plt"
   ]
  },
  {
   "cell_type": "code",
   "execution_count": 2,
   "id": "95e28785",
   "metadata": {},
   "outputs": [
    {
     "data": {
      "image/png": "[encoded data removed]",
      "text/plain": [
       "<Figure size 432x288 with 1 Axes>"
      ]
     },
     "metadata": {
      "needs_background": "light"
     },
     "output_type": "display_data"
    }
   ],
   "source": [
    "# Draw some axes.\n",
    "plt.plot([-1, 10], [0, 0], 'k-')\n",
    "plt.plot([0, 0], [-1, 10], 'k-')\n",
    "\n",
    "# Plot the red, blue and green lines.\n",
    "plt.plot([1, 1], [-1, 3], 'b:')\n",
    "plt.plot([-1, 1], [3, 3], 'r:')\n",
    "\n",
    "# Plot the two points (1,3) and (2,5).\n",
    "plt.plot([1, 2], [3, 5], 'ko')\n",
    "# Join them with an (extending) green lines.\n",
    "plt.plot([-1, 10], [-1, 21], 'g-')\n",
    "\n",
    "# Set some reasonable plot limits.\n",
    "plt.xlim([-1, 10])\n",
    "plt.ylim([-1, 10])\n",
    "\n",
    "# Show the plot.\n",
    "plt.show()"
   ]
  },
  {
   "cell_type": "markdown",
   "id": "f8928990",
   "metadata": {},
   "source": [
    "## Example"
   ]
  },
  {
   "cell_type": "markdown",
   "id": "ed3fe88d",
   "metadata": {},
   "source": [
    "Businesses often use linear regression to understand the relationship between advertising spending and revenue.\n",
    "\n",
    "For example, they might fit a simple linear regression model using advertising spending as the predictor variable and revenue as the response variable. The regression model would take the following form:\n",
    "\n",
    "\n",
    "<blockquote><b>revenue = β0 + β1(ad spending)</b></blockquote>\n",
    "\n",
    "The coefficient <b>β0</b> would represent total expected revenue when ad spending is zero.\n",
    "\n",
    "The coefficient <b>β1</b> would represent the average change in  total revenue when ad spending is increased by one unit (e.g. one dollar).\n",
    "\n",
    "If <b>β1</b> is negative, it would mean that more ad spending is associated with less revenue.\n",
    "\n",
    "If <b>β1</b> is close to zero, it would mean that ad spending has little effect on revenue.\n",
    "\n",
    "And if <b>β1</b> is positive, it would mean more ad spending is associated with more revenue.\n",
    "\n",
    "Depending on the value of <b>β1</b>, a company may decide to either decrease or increase their ad spending."
   ]
  },
  {
   "cell_type": "markdown",
   "id": "4e8082a2",
   "metadata": {},
   "source": [
    "#### Analysis\n",
    "Here we'll import the Python libraries we need for or investigations below."
   ]
  },
  {
   "cell_type": "code",
   "execution_count": 4,
   "id": "a8de90f2",
   "metadata": {},
   "outputs": [],
   "source": [
    "# numpy efficiently deals with numerical multi-dimensional arrays.\n",
    "import numpy as np\n",
    "\n",
    "# matplotlib is a plotting library, and pyplot is its easy-to-use module.\n",
    "import matplotlib.pyplot as plt\n",
    "\n",
    "# This just sets the default plot size to be bigger.\n",
    "plt.rcParams['figure.figsize'] = (8, 6)"
   ]
  },
  {
   "cell_type": "code",
   "execution_count": 5,
   "id": "39ac3008",
   "metadata": {},
   "outputs": [],
   "source": [
    "w = np.arange(0.0, 21.0, 1.0)\n",
    "d = 5.0 * w + 10.0 + np.random.normal(0.0, 5.0, w.size)"
   ]
  },
  {
   "cell_type": "code",
   "execution_count": 7,
   "id": "2d6a6d66",
   "metadata": {},
   "outputs": [
    {
     "name": "stdout",
     "output_type": "stream",
     "text": [
      "[ 0.  1.  2.  3.  4.  5.  6.  7.  8.  9. 10. 11. 12. 13. 14. 15. 16. 17.\n",
      " 18. 19. 20.]\n"
     ]
    }
   ],
   "source": [
    "print(w)"
   ]
  },
  {
   "cell_type": "code",
   "execution_count": 8,
   "id": "58ad1ed5",
   "metadata": {},
   "outputs": [
    {
     "name": "stdout",
     "output_type": "stream",
     "text": [
      "[  7.21717112  17.73937434  19.22661946  23.28940383  31.21462185\n",
      "  44.40592309  39.1585213   44.71073474  48.65667017  50.99365\n",
      "  62.80578883  62.80433865  67.29642817  74.41509741  72.9092546\n",
      "  91.04292285  93.11378374  92.86816268 106.25291576 100.53468395\n",
      " 108.94038431]\n"
     ]
    }
   ],
   "source": [
    "print(d)"
   ]
  },
  {
   "cell_type": "code",
   "execution_count": 9,
   "id": "70264e6f",
   "metadata": {},
   "outputs": [
    {
     "data": {
      "image/png": "[encoded data removed]",
      "text/plain": [
       "<Figure size 576x432 with 1 Axes>"
      ]
     },
     "metadata": {
      "needs_background": "light"
     },
     "output_type": "display_data"
    }
   ],
   "source": [
    "# Create the plot.\n",
    "\n",
    "plt.plot(w, d, 'k.')\n",
    "\n",
    "# Set some properties for the plot.\n",
    "plt.xlabel('Weight (KG)')\n",
    "plt.ylabel('Distance (CM)')\n",
    "\n",
    "# Show the plot.\n",
    "plt.show()"
   ]
  },
  {
   "cell_type": "markdown",
   "id": "9dda7d5d",
   "metadata": {},
   "source": [
    "#### Model\n",
    "It looks like the data might indeed be linear.\n",
    "The points don't exactly fit on a straight line, but they are not far off it.\n",
    "We might put that down to some other factors, such as the air density, or errors, such as in our tape measure.\n",
    "Then we can go ahead and see what would be the best line to fit the data. "
   ]
  },
  {
   "cell_type": "markdown",
   "id": "b2a22899",
   "metadata": {},
   "source": [
    "#### Straight lines\n",
    "All straight lines can be expressed in the form $y = mx + c$.\n",
    "The number $m$ is the slope of the line.\n",
    "The slope is how much $y$ increases by when $x$ is increased by 1.0.\n",
    "The number $c$ is the y-intercept of the line.\n",
    "It's the value of $y$ when $x$ is 0."
   ]
  },
  {
   "cell_type": "markdown",
   "id": "8d7ebe7d",
   "metadata": {},
   "source": [
    "#### Fitting the model\n",
    "To fit a straight line to the data, we just must pick values for $m$ and $c$.\n",
    "These are called the parameters of the model, and we want to pick the best values possible for the parameters.\n",
    "That is, the best parameter values *given* the data observed.\n",
    "Below we show various lines plotted over the data, with different values for $m$ and $c$."
   ]
  },
  {
   "cell_type": "code",
   "execution_count": 10,
   "id": "db53c3e6",
   "metadata": {},
   "outputs": [
    {
     "data": {
      "image/png": "[encoded data removed]",
      "text/plain": [
       "<Figure size 576x432 with 1 Axes>"
      ]
     },
     "metadata": {
      "needs_background": "light"
     },
     "output_type": "display_data"
    }
   ],
   "source": [
    "# Plot w versus d with black dots.\n",
    "plt.plot(w, d, 'k.', label=\"Data\")\n",
    "\n",
    "# Overlay some lines on the plot.\n",
    "x = np.arange(0.0, 21.0, 1.0)\n",
    "plt.plot(x, 5.0 * x + 10.0, 'r-', label=r\"$5x + 10$\")\n",
    "plt.plot(x, 6.0 * x +  5.0, 'g-', label=r\"$6x +  5$\")\n",
    "plt.plot(x, 5.0 * x + 15.0, 'b-', label=r\"$5x + 15$\")\n",
    "\n",
    "# Add a legend.\n",
    "plt.legend()\n",
    "\n",
    "# Add axis labels.\n",
    "plt.xlabel('Weight (KG)')\n",
    "plt.ylabel('Distance (CM)')\n",
    "\n",
    "# Show the plot.\n",
    "plt.show()"
   ]
  },
  {
   "cell_type": "markdown",
   "id": "106968ca",
   "metadata": {},
   "source": [
    "#### Calculating the cost\n",
    "You can see that each of these lines roughly fits the data.\n",
    "Which one is best, and is there another line that is better than all three?\n",
    "Is there a \"best\" line?\n",
    "\n",
    "It depends how you define the word best.\n",
    "Luckily, everyone seems to have settled on what the best means.\n",
    "The best line is the one that minimises the following calculated value.\n",
    "\n",
    "$$ \\sum_i (y_i - mx_i - c)^2 $$\n",
    "\n",
    "Here $(x_i, y_i)$ is the $i^{th}$ point in the data set and $\\sum_i$ means to sum over all points. \n",
    "The values of $m$ and $c$ are to be determined.\n",
    "We usually denote the above as $Cost(m, c)$.\n",
    "\n",
    "Where does the above calculation come from?\n",
    "It's easy to explain the part in the brackets $(y_i - mx_i - c)$.\n",
    "The corresponding value to $x_i$ in the dataset is $y_i$.\n",
    "These are the measured values.\n",
    "The value $m x_i + c$ is what the model says $y_i$ should have been.\n",
    "The difference between  the value that was observed ($y_i$) and the value that the model gives ($m x_i + c$), is $y_i - mx_i - c$.\n",
    "\n",
    "Why square that value?\n",
    "Well note that the value could be positive or negative, and you sum over all of these values.\n",
    "If we allow the values to be positive or negative, then the positive could cancel the negatives.\n",
    "So, the natural thing to do is to take the absolute value $\\mid y_i - m x_i - c \\mid$.\n",
    "Well it turns out that absolute values are a pain to deal with, and instead it was decided to just square the quantity instead, as the square of a number is always positive.\n",
    "There are pros and cons to using the square instead of the absolute value, but the square is used.\n",
    "This is usually called *least squares* fitting."
   ]
  },
  {
   "cell_type": "code",
   "execution_count": 11,
   "id": "47851814",
   "metadata": {},
   "outputs": [
    {
     "name": "stdout",
     "output_type": "stream",
     "text": [
      "Cost with m =  5.00 and c = 10.00:   308.91\n",
      "Cost with m =  6.00 and c =  5.00:  1661.07\n",
      "Cost with m =  5.00 and c = 15.00:   837.94\n"
     ]
    }
   ],
   "source": [
    "# Calculate the cost of the lines above for the data above.\n",
    "cost = lambda m,c: np.sum([(d[i] - m * w[i] - c)**2 for i in range(w.size)])\n",
    "\n",
    "print(\"Cost with m = %5.2f and c = %5.2f: %8.2f\" % (5.0, 10.0, cost(5.0, 10.0)))\n",
    "print(\"Cost with m = %5.2f and c = %5.2f: %8.2f\" % (6.0,  5.0, cost(6.0,  5.0)))\n",
    "print(\"Cost with m = %5.2f and c = %5.2f: %8.2f\" % (5.0, 15.0, cost(5.0, 15.0)))"
   ]
  },
  {
   "cell_type": "markdown",
   "id": "251cd5ef",
   "metadata": {},
   "source": [
    "#### Minimising the cost\n",
    "We want to calculate values of $m$ and $c$ that give the lowest value for the cost value above.\n",
    "For our given data set we can plot the cost value/function.\n",
    "Recall that the cost is:\n",
    "\n",
    "$$ Cost(m, c) = \\sum_i (y_i - mx_i - c)^2 $$\n",
    "\n",
    "This is a function of two variables, $m$ and $c$, so a plot of it is three dimensional.\n",
    "See the **Advanced** section below for the plot.\n",
    "\n",
    "In the case of fitting a two-dimensional line to a few data points, we can easily calculate exactly the best values of $m$ and $c$.\n",
    "Some of the details are discussed in the **Advanced** section, as they involve calculus, but the resulting code is straight-forward.\n",
    "We first calculate the mean (average) values of our $x$ values and that of our $y$ values.\n",
    "Then we subtract the mean of $x$ from each of the $x$ values, and the mean of $y$ from each of the $y$ values.\n",
    "Then we take the *dot product* of the new $x$ values and the new $y$ values and divide it by the dot product of the new $x$ values with themselves.\n",
    "That gives us $m$, and we use $m$ to calculate $c$.\n",
    "\n",
    "Remember that in our dataset $x$ is called $w$ (for weight) and $y$ is called $d$ (for distance).\n",
    "We calculate $m$ and $c$ below."
   ]
  },
  {
   "cell_type": "code",
   "execution_count": 13,
   "id": "6a982aa4",
   "metadata": {},
   "outputs": [
    {
     "name": "stdout",
     "output_type": "stream",
     "text": [
      "m is 4.965504 and c is 10.325747.\n"
     ]
    }
   ],
   "source": [
    "# Calculate the best values for m and c.\n",
    "\n",
    "# First calculate the means (a.k.a. averages) of w and d.\n",
    "w_avg = np.mean(w)\n",
    "d_avg = np.mean(d)\n",
    "\n",
    "# Subtract means from w and d.\n",
    "w_zero = w - w_avg\n",
    "d_zero = d - d_avg\n",
    "\n",
    "# The best m is found by the following calculation.\n",
    "m = np.sum(w_zero * d_zero) / np.sum(w_zero * w_zero)\n",
    "# Use m from above to calculate the best c.\n",
    "c = d_avg - m * w_avg\n",
    "\n",
    "print(\"m is %8.6f and c is %6.6f.\" % (m, c))"
   ]
  },
  {
   "cell_type": "markdown",
   "id": "174053bf",
   "metadata": {},
   "source": [
    "Note that numpy has a function that will perform this calculation for us, called polyfit.\n",
    "It can be used to fit lines in many dimensions."
   ]
  },
  {
   "cell_type": "code",
   "execution_count": 15,
   "id": "d21921d8",
   "metadata": {},
   "outputs": [
    {
     "data": {
      "text/plain": [
       "array([ 4.96550363, 10.32574705])"
      ]
     },
     "execution_count": 15,
     "metadata": {},
     "output_type": "execute_result"
    }
   ],
   "source": [
    "np.polyfit(w, d, 1)"
   ]
  },
  {
   "cell_type": "markdown",
   "id": "b53491bf",
   "metadata": {},
   "source": [
    "#### Best fit line\n",
    "So, the best values for $m$ and $c$ given our data and using least squares fitting are about $4.95$ for $m$ and about $11.13$ for $c$.\n",
    "We plot this line on top of the data below."
   ]
  },
  {
   "cell_type": "code",
   "execution_count": 16,
   "id": "45decf2a",
   "metadata": {},
   "outputs": [
    {
     "data": {
      "image/png": "[encoded data removed]",
      "text/plain": [
       "<Figure size 576x432 with 1 Axes>"
      ]
     },
     "metadata": {
      "needs_background": "light"
     },
     "output_type": "display_data"
    }
   ],
   "source": [
    "# Plot the best fit line.\n",
    "plt.plot(w, d, 'k.', label='Original data')\n",
    "plt.plot(w, m * w + c, 'b-', label='Best fit line')\n",
    "\n",
    "# Add axis labels and a legend.\n",
    "plt.xlabel('Weight (KG)')\n",
    "plt.ylabel('Distance (CM)')\n",
    "plt.legend()\n",
    "\n",
    "# Show the plot.\n",
    "plt.show()"
   ]
  },
  {
   "cell_type": "markdown",
   "id": "f9566ba9",
   "metadata": {},
   "source": [
    "Note that the $Cost$ of the best $m$ and best $c$ is not zero in this case."
   ]
  },
  {
   "cell_type": "code",
   "execution_count": 17,
   "id": "ed430c8d",
   "metadata": {},
   "outputs": [
    {
     "name": "stdout",
     "output_type": "stream",
     "text": [
      "Cost with m =  4.97 and c = 10.33:   307.98\n"
     ]
    }
   ],
   "source": [
    "print(\"Cost with m = %5.2f and c = %5.2f: %8.2f\" % (m, c, cost(m, c)))"
   ]
  }
 ],
 "metadata": {
  "kernelspec": {
   "display_name": "Python 3",
   "language": "python",
   "name": "python3"
  },
  "language_info": {
   "codemirror_mode": {
    "name": "ipython",
    "version": 3
   },
   "file_extension": ".py",
   "mimetype": "text/x-python",
   "name": "python",
   "nbconvert_exporter": "python",
   "pygments_lexer": "ipython3",
   "version": "3.8.8"
  }
 },
 "nbformat": 4,
 "nbformat_minor": 5
}
